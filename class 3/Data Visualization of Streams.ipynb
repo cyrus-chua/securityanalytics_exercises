{
 "cells": [
  {
   "cell_type": "code",
   "execution_count": 23,
   "metadata": {
    "collapsed": false
   },
   "outputs": [],
   "source": [
    "import pyshark\n",
    "import networkx"
   ]
  },
  {
   "cell_type": "code",
   "execution_count": 6,
   "metadata": {
    "collapsed": false
   },
   "outputs": [],
   "source": [
    "import pyshark\n",
    "cap = pyshark.FileCapture('traffic_dump.pcap')"
   ]
  },
  {
   "cell_type": "code",
   "execution_count": 24,
   "metadata": {
    "collapsed": false
   },
   "outputs": [
    {
     "name": "stdout",
     "output_type": "stream",
     "text": [
      "Packet (Length: 70)\r\n",
      "Layer ETH:\r\n",
      "\tDestination: 00:1d:6b:99:98:68\r\n",
      "\t.... ..0. .... .... .... .... = LG bit: Globally unique address (factory default)\r\n",
      "\tFCS Status: Good\r\n",
      "\tAddress: 00:1d:6b:99:98:68\r\n",
      "\t.... ...0 .... .... .... .... = IG bit: Individual address (unicast)\r\n",
      "\tType: IPv4 (0x0800)\r\n",
      "\tSource: 00:1d:d9:2e:4f:61\r\n",
      "\tFrame check sequence: 0x396b4922 [correct]\r\n",
      "\t.... ..0. .... .... .... .... = LG bit: Globally unique address (factory default)\r\n",
      "\tAddress: 00:1d:d9:2e:4f:61\r\n",
      "\t.... ...0 .... .... .... .... = IG bit: Individual address (unicast)\r\n",
      "Layer IP:\r\n",
      "\tSource GeoIP: Unknown\r\n",
      "\t..0. .... = More fragments: Not set\r\n",
      "\tTime to live: 63\r\n",
      "\t0100 .... = Version: 4\r\n",
      "\t.1.. .... = Don't fragment: Set\r\n",
      "\tFlags: 0x02 (Don't Fragment)\r\n",
      "\tDifferentiated Services Field: 0x00 (DSCP: CS0, ECN: Not-ECT)\r\n",
      "\tIdentification: 0x2f7e (12158)\r\n",
      "\tHeader checksum: 0x2290 [validation disabled]\r\n",
      "\t.... ..00 = Explicit Congestion Notification: Not ECN-Capable Transport (0)\r\n",
      "\t.... 0101 = Header Length: 20 bytes (5)\r\n",
      "\tDestination: 72.14.223.191\r\n",
      "\t0000 00.. = Differentiated Services Codepoint: Default (0)\r\n",
      "\tFragment offset: 0\r\n",
      "\t0... .... = Reserved bit: Not set\r\n",
      "\tTotal Length: 52\r\n",
      "\tSource: 192.168.1.64\r\n",
      "\tHeader checksum status: Unverified\r\n",
      "\tProtocol: TCP (6)\r\n",
      "\tDestination GeoIP: Unknown\r\n",
      "Layer TCP:\r\n",
      "\tNo-Operation (NOP)\r\n",
      "\t.... ..0. .... = Urgent: Not set\r\n",
      "\tAcknowledgment number: 753573921\r\n",
      "\t.00. .... = Class: Control (0)\r\n",
      "\tStream index: 5\r\n",
      "\t...0 0001 = Number: No-Operation (NOP) (1)\r\n",
      "\tChecksum Status: Unverified\r\n",
      "\tSequence number: 992865611\r\n",
      "\tiRTT: 0.060901000 seconds\r\n",
      "\tTCP Segment Len: 0\r\n",
      "\t000. .... .... = Reserved: Not set\r\n",
      "\tLength: 10\r\n",
      "\tSEQ/ACK analysis\r\n",
      "\tThe RTT to ACK the segment was: 0.002412000 seconds\r\n",
      "\tHeader Length: 32 bytes\r\n",
      "\tDestination Port: 443\r\n",
      "\t.... .... 0... = Push: Not set\r\n",
      "\t0... .... = Copy on fragmentation: No\r\n",
      "\tCalculated window size: 524280\r\n",
      "\t...0 .... .... = Nonce: Not set\r\n",
      "\t.... ...1 .... = Acknowledgment: Set\r\n",
      "\tTCP Flags: \\xc2\\xb7\\xc2\\xb7\\xc2\\xb7\\xc2\\xb7\\xc2\\xb7\\xc2\\xb7\\xc2\\xb7A\\xc2\\xb7\\xc2\\xb7\\xc2\\xb7\\xc2\\xb7\r\n",
      "\t.... .... ...0 = Fin: Not set\r\n",
      "\tKind: Time Stamp Option (8)\r\n",
      "\tWindow size scaling factor: 8\r\n",
      "\tWindow size value: 65535\r\n",
      "\tType: 1\r\n",
      "\tOptions: (12 bytes), No-Operation (NOP), No-Operation (NOP), Timestamps\r\n",
      "\tFlags: 0x010 (ACK)\r\n",
      "\t.... .0.. .... = ECN-Echo: Not set\r\n",
      "\tSource Port: 46756\r\n",
      "\tChecksum: 0x2589 [unverified]\r\n",
      "\tThis is an ACK to the segment in frame: 100\r\n",
      "\tUrgent pointer: 0\r\n",
      "\tTimestamp value: 712729560\r\n",
      "\t.... .... ..0. = Syn: Not set\r\n",
      "\t.... 0... .... = Congestion Window Reduced (CWR): Not set\r\n",
      "\t.... .... .0.. = Reset: Not set\r\n",
      "\tTimestamp echo reply: 398136203\r\n",
      "\tNo-Operation (NOP)\r\n",
      "\tTimestamps: TSval 712729560, TSecr 398136203\r\n",
      "\t.00. .... = Class: Control (0)\r\n",
      "\t...0 0001 = Number: No-Operation (NOP) (1)\r\n",
      "\t0... .... = Copy on fragmentation: No\r\n",
      "\tType: 1\r\n",
      "\n"
     ]
    }
   ],
   "source": [
    "print cap[100]"
   ]
  },
  {
   "cell_type": "code",
   "execution_count": 22,
   "metadata": {
    "collapsed": false
   },
   "outputs": [
    {
     "name": "stdout",
     "output_type": "stream",
     "text": [
      "0\n"
     ]
    }
   ],
   "source": [
    "streams = {}\n",
    "for x in cap:\n",
    "    if x.tcp.streams not in cap:\n",
    "        temp_dict = {}\n",
    "        temp_dict[\"src\"] = []\n",
    "        temp_dict[\"dst\"] = []\n",
    "        streams[x.tcp.streams]"
   ]
  },
  {
   "cell_type": "code",
   "execution_count": null,
   "metadata": {
    "collapsed": true
   },
   "outputs": [],
   "source": []
  }
 ],
 "metadata": {
  "anaconda-cloud": {},
  "kernelspec": {
   "display_name": "Python [Root]",
   "language": "python",
   "name": "Python [Root]"
  },
  "language_info": {
   "codemirror_mode": {
    "name": "ipython",
    "version": 2
   },
   "file_extension": ".py",
   "mimetype": "text/x-python",
   "name": "python",
   "nbconvert_exporter": "python",
   "pygments_lexer": "ipython2",
   "version": "2.7.12"
  }
 },
 "nbformat": 4,
 "nbformat_minor": 0
}
